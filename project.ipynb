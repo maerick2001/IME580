{
 "cells": [
  {
   "cell_type": "code",
   "execution_count": 1,
   "metadata": {},
   "outputs": [],
   "source": [
    "import matplotlib.pyplot as plt\n",
    "import pandas as pd\n",
    "import numpy as np\n",
    "import seaborn as sns\n",
    "import warnings\n",
    "warnings.filterwarnings('ignore')"
   ]
  },
  {
   "cell_type": "code",
   "execution_count": null,
   "metadata": {},
   "outputs": [],
   "source": [
    "df_mps = pd.read_excel('MPS.xlsx')"
   ]
  },
  {
   "cell_type": "code",
   "execution_count": 2,
   "metadata": {},
   "outputs": [
    {
     "name": "stdout",
     "output_type": "stream",
     "text": [
      "MRP for Part 1110 (Nylon Fabric):\n",
      "      Gross Requirements  Projected Available  Net Requirement  \\\n",
      "Week                                                             \n",
      "1                      0                    0                0   \n",
      "2                    900                    0              900   \n",
      "3                    900                    0              900   \n",
      "4                      0                    0                0   \n",
      "5                    900                    0              900   \n",
      "6                      0                    0                0   \n",
      "7                    900                    0              900   \n",
      "8                    900                    0              900   \n",
      "9                    900                    0              900   \n",
      "10                     0                    0                0   \n",
      "11                   900                    0              900   \n",
      "12                   900                    0              900   \n",
      "\n",
      "      Planned Order Receipt  Planned Order Release  \n",
      "Week                                                \n",
      "1                         0                    900  \n",
      "2                       900                    900  \n",
      "3                       900                      0  \n",
      "4                         0                    900  \n",
      "5                       900                      0  \n",
      "6                         0                    900  \n",
      "7                       900                    900  \n",
      "8                       900                    900  \n",
      "9                       900                      0  \n",
      "10                        0                    900  \n",
      "11                      900                    900  \n",
      "12                      900                      0  \n"
     ]
    }
   ],
   "source": [
    "# Tent's Gross Requirements across 12 weeks\n",
    "tent_gross_requirements = [0, 100, 100, 0, 100, 0, 100, 100, 100, 0, 100, 100]\n",
    "\n",
    "# Part quantities needed per tent\n",
    "part_quantities = {\n",
    "    1000: 1, 1100: 1, 1110: 9, 1120: 4, 1130: 5,\n",
    "    1131: 10, 1132: 9, 1133: 10, 1200: 1, 1210: 1,\n",
    "    1211: 1, 1212: 6.5, 1220: 1, 1221: 1, 1222: 1,\n",
    "    999: 4.5, 1230: 3, 1240: 24, 1250: 8, 1260: 2,\n",
    "    1300: 1, 1310: 4, 1400: 6, 1500: 4, 1510: 4, 1520: 4\n",
    "}\n",
    "\n",
    "# Initialize MRP DataFrame for each part\n",
    "weeks = list(range(1, 13))  # Weeks from 1 to 12\n",
    "mrp_frames = {}\n",
    "\n",
    "for part, quantity_per_tent in part_quantities.items():\n",
    "    # Creating a DataFrame to store MRP details for each part\n",
    "    data = {\n",
    "        'Week': weeks,\n",
    "        'Gross Requirements': [x * quantity_per_tent for x in tent_gross_requirements],\n",
    "        'Projected Available': [0] * 12,  # This will need adjustment\n",
    "        'Net Requirement': [0] * 12,\n",
    "        'Planned Order Receipt': [0] * 12,\n",
    "        'Planned Order Release': [0] * 12\n",
    "    }\n",
    "    df_mrp = pd.DataFrame(data)\n",
    "    df_mrp.set_index('Week', inplace=True)\n",
    "\n",
    "    # Assuming the projected available for the tent starts at 75 and then goes to 0\n",
    "    # Adjust the Projected Available and Net Requirements\n",
    "    projected_available = 75 if part == 1000 else 0  # Starting inventory for the tent component\n",
    "    for week in weeks:\n",
    "        if week == 1:\n",
    "            df_mrp.at[week, 'Projected Available'] = projected_available\n",
    "        else:\n",
    "            projected_available = max(0, projected_available - df_mrp.at[week, 'Gross Requirements'])\n",
    "\n",
    "        df_mrp.at[week, 'Net Requirement'] = max(0, df_mrp.at[week, 'Gross Requirements'] - df_mrp.at[week, 'Projected Available'])\n",
    "        # Planned Order Receipt matches Net Requirement (assuming immediate fulfillment)\n",
    "        df_mrp.at[week, 'Planned Order Receipt'] = df_mrp.at[week, 'Net Requirement']\n",
    "        # Planned Order Release could be a week before requirement, this part is hypothetical\n",
    "        if week > 1:\n",
    "            df_mrp.at[week - 1, 'Planned Order Release'] = df_mrp.at[week, 'Planned Order Receipt']\n",
    "\n",
    "    # Store DataFrame in a dictionary for later use or display\n",
    "    mrp_frames[part] = df_mrp\n",
    "\n",
    "# Example: Display the MRP for part 1110\n",
    "print(\"MRP for Part 1110 (Nylon Fabric):\")\n",
    "print(mrp_frames[1110])"
   ]
  }
 ],
 "metadata": {
  "kernelspec": {
   "display_name": "base",
   "language": "python",
   "name": "python3"
  },
  "language_info": {
   "codemirror_mode": {
    "name": "ipython",
    "version": 3
   },
   "file_extension": ".py",
   "mimetype": "text/x-python",
   "name": "python",
   "nbconvert_exporter": "python",
   "pygments_lexer": "ipython3",
   "version": "3.11.5"
  }
 },
 "nbformat": 4,
 "nbformat_minor": 2
}
